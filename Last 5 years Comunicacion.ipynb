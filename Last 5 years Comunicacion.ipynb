{
 "cells": [
  {
   "cell_type": "code",
   "execution_count": 1,
   "metadata": {},
   "outputs": [],
   "source": [
    "import numpy as np\n",
    "import pandas as pd\n",
    "import matplotlib.pyplot as plt\n",
    "import nltk \n",
    "import re\n",
    "from nltk.tokenize import word_tokenize\n",
    "from nltk.tokenize import sent_tokenize"
   ]
  },
  {
   "cell_type": "code",
   "execution_count": 2,
   "metadata": {},
   "outputs": [],
   "source": [
    "df= pd.read_excel('./859181_INDICES_v_3_conductas_completas.xlsx', header= 4)"
   ]
  },
  {
   "cell_type": "code",
   "execution_count": 3,
   "metadata": {},
   "outputs": [
    {
     "data": {
      "text/html": [
       "<div>\n",
       "<style scoped>\n",
       "    .dataframe tbody tr th:only-of-type {\n",
       "        vertical-align: middle;\n",
       "    }\n",
       "\n",
       "    .dataframe tbody tr th {\n",
       "        vertical-align: top;\n",
       "    }\n",
       "\n",
       "    .dataframe thead th {\n",
       "        text-align: right;\n",
       "    }\n",
       "</style>\n",
       "<table border=\"1\" class=\"dataframe\">\n",
       "  <thead>\n",
       "    <tr style=\"text-align: right;\">\n",
       "      <th></th>\n",
       "      <th>Unnamed: 0</th>\n",
       "      <th>SP</th>\n",
       "      <th>Fecha</th>\n",
       "      <th>Resol. No.</th>\n",
       "      <th>Empresas</th>\n",
       "      <th>Mercado</th>\n",
       "      <th>Categoria</th>\n",
       "      <th>Conducta</th>\n",
       "      <th>Art. Ley LDC (Formato Art. X Inc. x). Ley 25.156</th>\n",
       "      <th>Sancion</th>\n",
       "      <th>DETALLE</th>\n",
       "      <th>Unnamed: 11</th>\n",
       "    </tr>\n",
       "  </thead>\n",
       "  <tbody>\n",
       "    <tr>\n",
       "      <th>0</th>\n",
       "      <td>NaN</td>\n",
       "      <td>326599</td>\n",
       "      <td>2002-10-17</td>\n",
       "      <td>46</td>\n",
       "      <td>Beverage Associates Corp, Quilmes Industrialm ...</td>\n",
       "      <td>Mercado de la cerveza</td>\n",
       "      <td>bebidas</td>\n",
       "      <td>Carteles -  Acuerdo de Precios - Archivo</td>\n",
       "      <td>Art. 2 Inc. 1</td>\n",
       "      <td>Archivo</td>\n",
       "      <td>Realización de una operación de concentración ...</td>\n",
       "      <td>NaN</td>\n",
       "    </tr>\n",
       "    <tr>\n",
       "      <th>1</th>\n",
       "      <td>NaN</td>\n",
       "      <td>323089</td>\n",
       "      <td>1980-11-09</td>\n",
       "      <td>[127]</td>\n",
       "      <td>The Buenos Aires Herald Ltda. / Sociedad de Di...</td>\n",
       "      <td>Distribución de diarios.</td>\n",
       "      <td>comunicacion</td>\n",
       "      <td>Distribución - Negativa -</td>\n",
       "      <td>NaN</td>\n",
       "      <td>Archivo</td>\n",
       "      <td>_</td>\n",
       "      <td>NaN</td>\n",
       "    </tr>\n",
       "    <tr>\n",
       "      <th>2</th>\n",
       "      <td>NaN</td>\n",
       "      <td>321373</td>\n",
       "      <td>1981-04-12</td>\n",
       "      <td>124</td>\n",
       "      <td>Acindar Industria Argentina de Aceros S.A. / S...</td>\n",
       "      <td>MANUFACTURING Fabricación de metales comunes -...</td>\n",
       "      <td>energia</td>\n",
       "      <td>Póliticas de precios - Guerra de precios - Con...</td>\n",
       "      <td>NaN</td>\n",
       "      <td>Archivo</td>\n",
       "      <td>Para que la guerra de precios pueda considerar...</td>\n",
       "      <td>NaN</td>\n",
       "    </tr>\n",
       "    <tr>\n",
       "      <th>3</th>\n",
       "      <td>NaN</td>\n",
       "      <td>321185</td>\n",
       "      <td>1981-08-09</td>\n",
       "      <td>257</td>\n",
       "      <td>Juan Ignacio Borchex y Oscar Dos Reis / Asocia...</td>\n",
       "      <td>Servicio funerario</td>\n",
       "      <td>funerario</td>\n",
       "      <td>Abuso de posición dominante</td>\n",
       "      <td>NaN</td>\n",
       "      <td>Archivo</td>\n",
       "      <td>Extensión de servicio mutual a personas no mut...</td>\n",
       "      <td>NaN</td>\n",
       "    </tr>\n",
       "    <tr>\n",
       "      <th>4</th>\n",
       "      <td>NaN</td>\n",
       "      <td>321190</td>\n",
       "      <td>1981-08-18</td>\n",
       "      <td>302</td>\n",
       "      <td>Tiboni y Cía S.R.L. / Sorensen y Cía. S.R.L.</td>\n",
       "      <td>Pantógrafos (calado o perforado de cristales p...</td>\n",
       "      <td>automotor</td>\n",
       "      <td>Trato exclusivo - patentes</td>\n",
       "      <td>NaN</td>\n",
       "      <td>Archivo</td>\n",
       "      <td>La denunciada ejerció una serie de presiones s...</td>\n",
       "      <td>NaN</td>\n",
       "    </tr>\n",
       "  </tbody>\n",
       "</table>\n",
       "</div>"
      ],
      "text/plain": [
       "   Unnamed: 0      SP      Fecha Resol. No.  \\\n",
       "0         NaN  326599 2002-10-17         46   \n",
       "1         NaN  323089 1980-11-09      [127]   \n",
       "2         NaN  321373 1981-04-12        124   \n",
       "3         NaN  321185 1981-08-09        257   \n",
       "4         NaN  321190 1981-08-18        302   \n",
       "\n",
       "                                            Empresas  \\\n",
       "0  Beverage Associates Corp, Quilmes Industrialm ...   \n",
       "1  The Buenos Aires Herald Ltda. / Sociedad de Di...   \n",
       "2  Acindar Industria Argentina de Aceros S.A. / S...   \n",
       "3  Juan Ignacio Borchex y Oscar Dos Reis / Asocia...   \n",
       "4       Tiboni y Cía S.R.L. / Sorensen y Cía. S.R.L.   \n",
       "\n",
       "                                             Mercado     Categoria  \\\n",
       "0                              Mercado de la cerveza       bebidas   \n",
       "1                           Distribución de diarios.  comunicacion   \n",
       "2  MANUFACTURING Fabricación de metales comunes -...       energia   \n",
       "3                                 Servicio funerario     funerario   \n",
       "4  Pantógrafos (calado o perforado de cristales p...     automotor   \n",
       "\n",
       "                                            Conducta  \\\n",
       "0           Carteles -  Acuerdo de Precios - Archivo   \n",
       "1                         Distribución - Negativa -    \n",
       "2  Póliticas de precios - Guerra de precios - Con...   \n",
       "3                        Abuso de posición dominante   \n",
       "4                         Trato exclusivo - patentes   \n",
       "\n",
       "  Art. Ley LDC (Formato Art. X Inc. x). Ley 25.156  Sancion  \\\n",
       "0                                    Art. 2 Inc. 1  Archivo   \n",
       "1                                              NaN  Archivo   \n",
       "2                                              NaN  Archivo   \n",
       "3                                              NaN  Archivo   \n",
       "4                                              NaN  Archivo   \n",
       "\n",
       "                                             DETALLE Unnamed: 11  \n",
       "0  Realización de una operación de concentración ...         NaN  \n",
       "1                                                  _         NaN  \n",
       "2  Para que la guerra de precios pueda considerar...         NaN  \n",
       "3  Extensión de servicio mutual a personas no mut...         NaN  \n",
       "4  La denunciada ejerció una serie de presiones s...         NaN  "
      ]
     },
     "execution_count": 3,
     "metadata": {},
     "output_type": "execute_result"
    }
   ],
   "source": [
    "df ['Fecha']=pd.to_datetime(df['Fecha'])\n",
    "df.head()"
   ]
  },
  {
   "cell_type": "code",
   "execution_count": 4,
   "metadata": {},
   "outputs": [],
   "source": [
    "#convertir todas las que son str lowercase\n",
    "df = df.applymap(lambda s:s.lower() if type(s) == str else s)\n",
    "\n",
    "#eliminar los simbolos\n",
    "df['Mercado'] = [re.sub(\"[\\W+]\",' ', str(x)) for x in df['Mercado']]\n",
    "df['Conducta']= [re.sub(\"[\\W+]\",' ', str(x)) for x in df['Conducta']]\n",
    "\n",
    "##convertir esto en una lista de palabras a eliminar.\n",
    "filtrar = ['mercado', 'servicio', 'servicios', 'fabricación', 'fabricacion', 'fabricacion', 'manufacturing', 'mencionado', 'productos']\n",
    "df['Mercado'] = df['Mercado'].apply(lambda x: ' '.join([word for word in x.split() if word not in (filtrar)]))\n",
    "filtrar1 = ['archivo', 'nan'] \n",
    "df ['Conducta'] = df ['Conducta'].apply(lambda x: ' '.join([word for word in x.split() if word not in (filtrar1)]))\n",
    "\n",
    "#eliminamos las stopwords\n",
    "stopwords = nltk.corpus.stopwords.words('spanish')\n",
    "df['Mercado'] = df['Mercado'].apply(lambda x: ' '.join([word for word in x.split() if word not in (stopwords)]))\n",
    "df['Conducta'] = df['Conducta'].apply(lambda x: ' '.join([word for word in x.split() if word not in (stopwords)]))\n",
    "\n",
    "##Tareas: en donde es nan el mercado, buscar completar. \n",
    "df.replace('', np.nan, inplace=True)"
   ]
  },
  {
   "cell_type": "code",
   "execution_count": 5,
   "metadata": {},
   "outputs": [],
   "source": [
    "###df[\"Categoria\"].replace({\"television\": \"comunicacion\"}, inplace=True)"
   ]
  },
  {
   "cell_type": "code",
   "execution_count": 6,
   "metadata": {},
   "outputs": [
    {
     "data": {
      "text/plain": [
       "(78, 12)"
      ]
     },
     "execution_count": 6,
     "metadata": {},
     "output_type": "execute_result"
    }
   ],
   "source": [
    "df_comu = df [df[\"Categoria\"] == \"comunicacion\"].copy()\n",
    "df_comu.reset_index(drop=True, inplace=True)\n",
    "df_comu.shape"
   ]
  },
  {
   "cell_type": "code",
   "execution_count": 7,
   "metadata": {},
   "outputs": [],
   "source": [
    "df_comu.drop(['Unnamed: 0'], axis=1, inplace=True)\n",
    "df_comu.drop(['Unnamed: 11'], axis=1, inplace=True)"
   ]
  },
  {
   "cell_type": "code",
   "execution_count": 8,
   "metadata": {},
   "outputs": [
    {
     "name": "stdout",
     "output_type": "stream",
     "text": [
      "<class 'pandas.core.frame.DataFrame'>\n",
      "RangeIndex: 78 entries, 0 to 77\n",
      "Data columns (total 10 columns):\n",
      " #   Column                                            Non-Null Count  Dtype         \n",
      "---  ------                                            --------------  -----         \n",
      " 0   SP                                                74 non-null     object        \n",
      " 1   Fecha                                             78 non-null     datetime64[ns]\n",
      " 2   Resol. No.                                        78 non-null     object        \n",
      " 3   Empresas                                          78 non-null     object        \n",
      " 4   Mercado                                           78 non-null     object        \n",
      " 5   Categoria                                         78 non-null     object        \n",
      " 6   Conducta                                          72 non-null     object        \n",
      " 7   Art. Ley LDC (Formato Art. X Inc. x). Ley 25.156  20 non-null     object        \n",
      " 8   Sancion                                           78 non-null     object        \n",
      " 9   DETALLE                                           72 non-null     object        \n",
      "dtypes: datetime64[ns](1), object(9)\n",
      "memory usage: 6.2+ KB\n"
     ]
    }
   ],
   "source": [
    "df_comu.info()"
   ]
  },
  {
   "cell_type": "code",
   "execution_count": 9,
   "metadata": {},
   "outputs": [],
   "source": [
    "# Select observations between two datetimes\n",
    "df_5= df_comu[(df_comu['Fecha'] > '2015-1-1 01:00:00') & (df_comu['Fecha'] <= '2020-1-1 04:00:00')]"
   ]
  },
  {
   "cell_type": "code",
   "execution_count": 10,
   "metadata": {},
   "outputs": [
    {
     "name": "stdout",
     "output_type": "stream",
     "text": [
      "<class 'pandas.core.frame.DataFrame'>\n",
      "Int64Index: 25 entries, 53 to 77\n",
      "Data columns (total 10 columns):\n",
      " #   Column                                            Non-Null Count  Dtype         \n",
      "---  ------                                            --------------  -----         \n",
      " 0   SP                                                21 non-null     object        \n",
      " 1   Fecha                                             25 non-null     datetime64[ns]\n",
      " 2   Resol. No.                                        25 non-null     object        \n",
      " 3   Empresas                                          25 non-null     object        \n",
      " 4   Mercado                                           25 non-null     object        \n",
      " 5   Categoria                                         25 non-null     object        \n",
      " 6   Conducta                                          20 non-null     object        \n",
      " 7   Art. Ley LDC (Formato Art. X Inc. x). Ley 25.156  20 non-null     object        \n",
      " 8   Sancion                                           25 non-null     object        \n",
      " 9   DETALLE                                           21 non-null     object        \n",
      "dtypes: datetime64[ns](1), object(9)\n",
      "memory usage: 2.1+ KB\n"
     ]
    }
   ],
   "source": [
    "df_5.info()"
   ]
  },
  {
   "cell_type": "code",
   "execution_count": 11,
   "metadata": {},
   "outputs": [
    {
     "name": "stderr",
     "output_type": "stream",
     "text": [
      "<ipython-input-11-56d0e06b249e>:5: SettingWithCopyWarning: \n",
      "A value is trying to be set on a copy of a slice from a DataFrame.\n",
      "Try using .loc[row_indexer,col_indexer] = value instead\n",
      "\n",
      "See the caveats in the documentation: https://pandas.pydata.org/pandas-docs/stable/user_guide/indexing.html#returning-a-view-versus-a-copy\n",
      "  df_5['Resol. No.'] = [re.sub(\"[\\D+]\",'', str(x)) for x in df_5['Resol. No.']]\n"
     ]
    },
    {
     "data": {
      "text/plain": [
       "array(['187', '271', '438', '132', '181', '189', '775', '324', '913',\n",
       "       '114', '28', '600', '258', '471', '29', '463', '25', '595', '14'],\n",
       "      dtype=object)"
      ]
     },
     "execution_count": 11,
     "metadata": {},
     "output_type": "execute_result"
    }
   ],
   "source": [
    "# Select observations between two datetimes\n",
    "df_5= df_comu[(df_comu['Fecha'] > '2015-1-1 01:00:00') & (df_comu['Fecha'] <= '2020-1-1 04:00:00')]\n",
    "\n",
    "#eliminar los simbolos\n",
    "df_5['Resol. No.'] = [re.sub(\"[\\D+]\",'', str(x)) for x in df_5['Resol. No.']]\n",
    "lista= df_5 ['Resol. No.'].unique()\n",
    "lista\n",
    "##eliminar el 187 porque los que trae no son consistentes. \n",
    "#convertir a float. "
   ]
  },
  {
   "cell_type": "code",
   "execution_count": 15,
   "metadata": {},
   "outputs": [
    {
     "data": {
      "image/png": "[encoded data removed]",
      "text/plain": [
       "<Figure size 576x720 with 1 Axes>"
      ]
     },
     "metadata": {
      "needs_background": "light"
     },
     "output_type": "display_data"
    }
   ],
   "source": [
    "plt.figure(figsize=(8,10))\n",
    "df_5.groupby(['Art. Ley LDC (Formato Art. X Inc. x). Ley 25.156']).size().plot(kind='barh')\n",
    "plt.ylabel('Conductas')\n",
    "plt.xlabel('Cantidad')\n",
    "plt.title('Analisis Base de datos')\n",
    "plt.savefig('Comunicacion')\n",
    "plt.show()\n"
   ]
  },
  {
   "cell_type": "code",
   "execution_count": null,
   "metadata": {},
   "outputs": [],
   "source": []
  }
 ],
 "metadata": {
  "kernelspec": {
   "display_name": "Python 3",
   "language": "python",
   "name": "python3"
  },
  "language_info": {
   "codemirror_mode": {
    "name": "ipython",
    "version": 3
   },
   "file_extension": ".py",
   "mimetype": "text/x-python",
   "name": "python",
   "nbconvert_exporter": "python",
   "pygments_lexer": "ipython3",
   "version": "3.8.1"
  }
 },
 "nbformat": 4,
 "nbformat_minor": 4
}
