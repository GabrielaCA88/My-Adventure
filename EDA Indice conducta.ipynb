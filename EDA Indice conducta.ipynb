{
 "cells": [
  {
   "cell_type": "code",
   "execution_count": 1,
   "metadata": {},
   "outputs": [],
   "source": [
    "import numpy as np\n",
    "import pandas as pd\n",
    "import matplotlib.pyplot as plt\n",
    "import nltk \n",
    "import re\n",
    "from nltk.tokenize import word_tokenize\n",
    "##https://blog.insightdatascience.com/how-to-solve-90-of-nlp-problems-a-step-by-step-guide-fda605278e4e \n",
    "##https://unipython.com/curso-de-procesamiento-de-textos-gensim/"
   ]
  },
  {
   "cell_type": "code",
   "execution_count": 2,
   "metadata": {},
   "outputs": [],
   "source": [
    "df= pd.read_excel('./859181_INDICES_v_3_conductas.xlsx', header= 4)"
   ]
  },
  {
   "cell_type": "code",
   "execution_count": 3,
   "metadata": {},
   "outputs": [
    {
     "data": {
      "text/html": [
       "<div>\n",
       "<style scoped>\n",
       "    .dataframe tbody tr th:only-of-type {\n",
       "        vertical-align: middle;\n",
       "    }\n",
       "\n",
       "    .dataframe tbody tr th {\n",
       "        vertical-align: top;\n",
       "    }\n",
       "\n",
       "    .dataframe thead th {\n",
       "        text-align: right;\n",
       "    }\n",
       "</style>\n",
       "<table border=\"1\" class=\"dataframe\">\n",
       "  <thead>\n",
       "    <tr style=\"text-align: right;\">\n",
       "      <th></th>\n",
       "      <th>Unnamed: 0</th>\n",
       "      <th>SP</th>\n",
       "      <th>Fecha</th>\n",
       "      <th>Resol. No.</th>\n",
       "      <th>Empresas</th>\n",
       "      <th>Mercado</th>\n",
       "      <th>Conducta</th>\n",
       "      <th>Sancion</th>\n",
       "      <th>DETALLE</th>\n",
       "      <th>Unnamed: 9</th>\n",
       "    </tr>\n",
       "  </thead>\n",
       "  <tbody>\n",
       "    <tr>\n",
       "      <th>0</th>\n",
       "      <td>NaN</td>\n",
       "      <td>326599</td>\n",
       "      <td>2002-10-17</td>\n",
       "      <td>46</td>\n",
       "      <td>Beverage Associates Corp, Quilmes Industrialm ...</td>\n",
       "      <td>Mercado de la cerveza</td>\n",
       "      <td>Carteles -  Acuerdo de Precios - Archivo</td>\n",
       "      <td>Archivo</td>\n",
       "      <td>Realización de una operación de concentración ...</td>\n",
       "      <td>NaN</td>\n",
       "    </tr>\n",
       "    <tr>\n",
       "      <th>1</th>\n",
       "      <td>NaN</td>\n",
       "      <td>323089</td>\n",
       "      <td>1980-11-09</td>\n",
       "      <td>[127]</td>\n",
       "      <td>The Buenos Aires Herald Ltda. / Sociedad de Di...</td>\n",
       "      <td>Distribución de diarios.</td>\n",
       "      <td>Distribución - Negativa -</td>\n",
       "      <td>Archivo</td>\n",
       "      <td>_</td>\n",
       "      <td>NaN</td>\n",
       "    </tr>\n",
       "    <tr>\n",
       "      <th>2</th>\n",
       "      <td>NaN</td>\n",
       "      <td>321373</td>\n",
       "      <td>1981-04-12</td>\n",
       "      <td>124</td>\n",
       "      <td>Acindar Industria Argentina de Aceros S.A. / S...</td>\n",
       "      <td>MANUFACTURING Fabricación de metales comunes -...</td>\n",
       "      <td>Póliticas de precios - Guerra de precios - Con...</td>\n",
       "      <td>Archivo</td>\n",
       "      <td>Para que la guerra de precios pueda considerar...</td>\n",
       "      <td>NaN</td>\n",
       "    </tr>\n",
       "    <tr>\n",
       "      <th>3</th>\n",
       "      <td>NaN</td>\n",
       "      <td>321185</td>\n",
       "      <td>1981-08-09</td>\n",
       "      <td>257</td>\n",
       "      <td>Juan Ignacio Borchex y Oscar Dos Reis / Asocia...</td>\n",
       "      <td>Servicio funerario</td>\n",
       "      <td>Abuso de posición dominante</td>\n",
       "      <td>Archivo</td>\n",
       "      <td>Extensión de servicio mutual a personas no mut...</td>\n",
       "      <td>NaN</td>\n",
       "    </tr>\n",
       "    <tr>\n",
       "      <th>4</th>\n",
       "      <td>NaN</td>\n",
       "      <td>321190</td>\n",
       "      <td>1981-08-18</td>\n",
       "      <td>302</td>\n",
       "      <td>Tiboni y Cía S.R.L. / Sorensen y Cía. S.R.L.</td>\n",
       "      <td>Pantógrafos (calado o perforado de cristales p...</td>\n",
       "      <td>Trato exclusivo - patentes</td>\n",
       "      <td>Archivo</td>\n",
       "      <td>La denunciada ejerció una serie de presiones s...</td>\n",
       "      <td>NaN</td>\n",
       "    </tr>\n",
       "  </tbody>\n",
       "</table>\n",
       "</div>"
      ],
      "text/plain": [
       "   Unnamed: 0      SP      Fecha Resol. No.  \\\n",
       "0         NaN  326599 2002-10-17         46   \n",
       "1         NaN  323089 1980-11-09      [127]   \n",
       "2         NaN  321373 1981-04-12        124   \n",
       "3         NaN  321185 1981-08-09        257   \n",
       "4         NaN  321190 1981-08-18        302   \n",
       "\n",
       "                                            Empresas  \\\n",
       "0  Beverage Associates Corp, Quilmes Industrialm ...   \n",
       "1  The Buenos Aires Herald Ltda. / Sociedad de Di...   \n",
       "2  Acindar Industria Argentina de Aceros S.A. / S...   \n",
       "3  Juan Ignacio Borchex y Oscar Dos Reis / Asocia...   \n",
       "4       Tiboni y Cía S.R.L. / Sorensen y Cía. S.R.L.   \n",
       "\n",
       "                                             Mercado  \\\n",
       "0                              Mercado de la cerveza   \n",
       "1                           Distribución de diarios.   \n",
       "2  MANUFACTURING Fabricación de metales comunes -...   \n",
       "3                                 Servicio funerario   \n",
       "4  Pantógrafos (calado o perforado de cristales p...   \n",
       "\n",
       "                                            Conducta  Sancion  \\\n",
       "0           Carteles -  Acuerdo de Precios - Archivo  Archivo   \n",
       "1                         Distribución - Negativa -   Archivo   \n",
       "2  Póliticas de precios - Guerra de precios - Con...  Archivo   \n",
       "3                        Abuso de posición dominante  Archivo   \n",
       "4                         Trato exclusivo - patentes  Archivo   \n",
       "\n",
       "                                             DETALLE Unnamed: 9  \n",
       "0  Realización de una operación de concentración ...        NaN  \n",
       "1                                                  _        NaN  \n",
       "2  Para que la guerra de precios pueda considerar...        NaN  \n",
       "3  Extensión de servicio mutual a personas no mut...        NaN  \n",
       "4  La denunciada ejerció una serie de presiones s...        NaN  "
      ]
     },
     "execution_count": 3,
     "metadata": {},
     "output_type": "execute_result"
    }
   ],
   "source": [
    "##df.drop (columns=[0])\n",
    "df ['Fecha']=pd.to_datetime(df['Fecha'])\n",
    "df.head()\n",
    "#df= df.drop(columns=[1])\n",
    "#df= df.drop(columns=[10])"
   ]
  },
  {
   "cell_type": "code",
   "execution_count": 4,
   "metadata": {},
   "outputs": [
    {
     "data": {
      "text/plain": [
       "(834, 10)"
      ]
     },
     "execution_count": 4,
     "metadata": {},
     "output_type": "execute_result"
    }
   ],
   "source": [
    "df.shape\n",
    "##la base de datos total de conductas es de 855 - 834= 21\n",
    "#hay que ver cuales faltan. "
   ]
  },
  {
   "cell_type": "markdown",
   "metadata": {},
   "source": [
    "# Normalizacion"
   ]
  },
  {
   "cell_type": "code",
   "execution_count": 5,
   "metadata": {},
   "outputs": [],
   "source": [
    "#convertir todas las que son str lowercase\n",
    "df = df.applymap(lambda s:s.lower() if type(s) == str else s)\n",
    "\n",
    "#eliminar los simbolos\n",
    "df['Mercado'] = [re.sub(\"[\\W+]\",' ', str(x)) for x in df['Mercado']]\n",
    "df['Conducta']= [re.sub(\"[\\W+]\",' ', str(x)) for x in df['Conducta']]\n",
    "\n",
    "##convertir esto en una lista de palabras a eliminar.\n",
    "filtrar = ['mercado', 'servicio', 'servicios', 'fabricación', 'fabricacion', 'fabricacion', 'manufacturing', 'mencionado', 'productos']\n",
    "df['Mercado'] = df['Mercado'].apply(lambda x: ' '.join([word for word in x.split() if word not in (filtrar)]))\n",
    "\n",
    "#eliminamos las stopwords\n",
    "stopwords = nltk.corpus.stopwords.words('spanish')\n",
    "df['Mercado'] = df['Mercado'].apply(lambda x: ' '.join([word for word in x.split() if word not in (stopwords)]))\n",
    "df['Conducta'] = df['Conducta'].apply(lambda x: ' '.join([word for word in x.split() if word not in (stopwords)]))\n",
    "\n",
    "##Tareas: en donde es nan el mercado, buscar completar. "
   ]
  },
  {
   "cell_type": "code",
   "execution_count": 6,
   "metadata": {},
   "outputs": [
    {
     "data": {
      "text/html": [
       "<div>\n",
       "<style scoped>\n",
       "    .dataframe tbody tr th:only-of-type {\n",
       "        vertical-align: middle;\n",
       "    }\n",
       "\n",
       "    .dataframe tbody tr th {\n",
       "        vertical-align: top;\n",
       "    }\n",
       "\n",
       "    .dataframe thead th {\n",
       "        text-align: right;\n",
       "    }\n",
       "</style>\n",
       "<table border=\"1\" class=\"dataframe\">\n",
       "  <thead>\n",
       "    <tr style=\"text-align: right;\">\n",
       "      <th></th>\n",
       "      <th>Unnamed: 0</th>\n",
       "      <th>SP</th>\n",
       "      <th>Fecha</th>\n",
       "      <th>Resol. No.</th>\n",
       "      <th>Empresas</th>\n",
       "      <th>Mercado</th>\n",
       "      <th>Conducta</th>\n",
       "      <th>Sancion</th>\n",
       "      <th>DETALLE</th>\n",
       "      <th>Unnamed: 9</th>\n",
       "    </tr>\n",
       "  </thead>\n",
       "  <tbody>\n",
       "    <tr>\n",
       "      <th>0</th>\n",
       "      <td>NaN</td>\n",
       "      <td>326599</td>\n",
       "      <td>2002-10-17</td>\n",
       "      <td>46</td>\n",
       "      <td>beverage associates corp, quilmes industrialm ...</td>\n",
       "      <td>cerveza</td>\n",
       "      <td>carteles acuerdo precios archivo</td>\n",
       "      <td>archivo</td>\n",
       "      <td>realización de una operación de concentración ...</td>\n",
       "      <td>NaN</td>\n",
       "    </tr>\n",
       "    <tr>\n",
       "      <th>1</th>\n",
       "      <td>NaN</td>\n",
       "      <td>323089</td>\n",
       "      <td>1980-11-09</td>\n",
       "      <td>[127]</td>\n",
       "      <td>the buenos aires herald ltda. / sociedad de di...</td>\n",
       "      <td>distribución diarios</td>\n",
       "      <td>distribución negativa</td>\n",
       "      <td>archivo</td>\n",
       "      <td>_</td>\n",
       "      <td>NaN</td>\n",
       "    </tr>\n",
       "    <tr>\n",
       "      <th>2</th>\n",
       "      <td>NaN</td>\n",
       "      <td>321373</td>\n",
       "      <td>1981-04-12</td>\n",
       "      <td>124</td>\n",
       "      <td>acindar industria argentina de aceros s.a. / s...</td>\n",
       "      <td>metales comunes siderurgico</td>\n",
       "      <td>póliticas precios guerra precios conducta excl...</td>\n",
       "      <td>archivo</td>\n",
       "      <td>para que la guerra de precios pueda considerar...</td>\n",
       "      <td>NaN</td>\n",
       "    </tr>\n",
       "    <tr>\n",
       "      <th>3</th>\n",
       "      <td>NaN</td>\n",
       "      <td>321185</td>\n",
       "      <td>1981-08-09</td>\n",
       "      <td>257</td>\n",
       "      <td>juan ignacio borchex y oscar dos reis / asocia...</td>\n",
       "      <td>funerario</td>\n",
       "      <td>abuso posición dominante</td>\n",
       "      <td>archivo</td>\n",
       "      <td>extensión de servicio mutual a personas no mut...</td>\n",
       "      <td>NaN</td>\n",
       "    </tr>\n",
       "    <tr>\n",
       "      <th>4</th>\n",
       "      <td>NaN</td>\n",
       "      <td>321190</td>\n",
       "      <td>1981-08-18</td>\n",
       "      <td>302</td>\n",
       "      <td>tiboni y cía s.r.l. / sorensen y cía. s.r.l.</td>\n",
       "      <td>pantógrafos calado perforado cristales automóv...</td>\n",
       "      <td>trato exclusivo patentes</td>\n",
       "      <td>archivo</td>\n",
       "      <td>la denunciada ejerció una serie de presiones s...</td>\n",
       "      <td>NaN</td>\n",
       "    </tr>\n",
       "    <tr>\n",
       "      <th>...</th>\n",
       "      <td>...</td>\n",
       "      <td>...</td>\n",
       "      <td>...</td>\n",
       "      <td>...</td>\n",
       "      <td>...</td>\n",
       "      <td>...</td>\n",
       "      <td>...</td>\n",
       "      <td>...</td>\n",
       "      <td>...</td>\n",
       "      <td>...</td>\n",
       "    </tr>\n",
       "    <tr>\n",
       "      <th>829</th>\n",
       "      <td>NaN</td>\n",
       "      <td>986108 + 986109</td>\n",
       "      <td>2017-03-14</td>\n",
       "      <td>180</td>\n",
       "      <td>colegio de farmacéuticos de tucumán, asociació...</td>\n",
       "      <td>actividades sanitarias sociales</td>\n",
       "      <td>medida cautelar asociación cámara colegio</td>\n",
       "      <td>medida cautelar</td>\n",
       "      <td>ordénase al colegio de farmacéuticos de tucumá...</td>\n",
       "      <td>NaN</td>\n",
       "    </tr>\n",
       "    <tr>\n",
       "      <th>830</th>\n",
       "      <td>NaN</td>\n",
       "      <td>342684</td>\n",
       "      <td>2011-02-07</td>\n",
       "      <td>17</td>\n",
       "      <td>la veloz del norte</td>\n",
       "      <td>nan</td>\n",
       "      <td>nan</td>\n",
       "      <td>multa</td>\n",
       "      <td>denuncia efectuada por las firmas empresa almi...</td>\n",
       "      <td>NaN</td>\n",
       "    </tr>\n",
       "    <tr>\n",
       "      <th>831</th>\n",
       "      <td>NaN</td>\n",
       "      <td>987339</td>\n",
       "      <td>2019-09-19</td>\n",
       "      <td>605</td>\n",
       "      <td>colegio de farmacéuticos de tucumán s/ infracc...</td>\n",
       "      <td>actividades sanitarias sociales dispensa medic...</td>\n",
       "      <td>artículo 53 ley n 25 156 recurso directo apela...</td>\n",
       "      <td>desestímanse por inadmisibles los recursos dir...</td>\n",
       "      <td>con fecha 8 de febrero de 2018, la asociación...</td>\n",
       "      <td>NaN</td>\n",
       "    </tr>\n",
       "    <tr>\n",
       "      <th>832</th>\n",
       "      <td>NaN</td>\n",
       "      <td>987340</td>\n",
       "      <td>2019-09-19</td>\n",
       "      <td>595</td>\n",
       "      <td>cooperativa eléctrica y anexos ltada. c.e.y.a....</td>\n",
       "      <td>información comunicación televisión cable</td>\n",
       "      <td>cumplimiento compromiso</td>\n",
       "      <td>archivo</td>\n",
       "      <td>NaN</td>\n",
       "      <td>NaN</td>\n",
       "    </tr>\n",
       "    <tr>\n",
       "      <th>833</th>\n",
       "      <td>NaN</td>\n",
       "      <td>987802</td>\n",
       "      <td>2019-09-27</td>\n",
       "      <td>627</td>\n",
       "      <td>secretaría de comercio interior y servicios de...</td>\n",
       "      <td>venta mayor combustibles sólidos líquidos gase...</td>\n",
       "      <td>abuso posición dominante venta combustible líq...</td>\n",
       "      <td>archivo</td>\n",
       "      <td>denuncia tuvo su génesis en un reclamo gremia...</td>\n",
       "      <td>NaN</td>\n",
       "    </tr>\n",
       "  </tbody>\n",
       "</table>\n",
       "<p>834 rows × 10 columns</p>\n",
       "</div>"
      ],
      "text/plain": [
       "     Unnamed: 0               SP      Fecha Resol. No.  \\\n",
       "0           NaN           326599 2002-10-17         46   \n",
       "1           NaN           323089 1980-11-09      [127]   \n",
       "2           NaN           321373 1981-04-12        124   \n",
       "3           NaN           321185 1981-08-09        257   \n",
       "4           NaN           321190 1981-08-18        302   \n",
       "..          ...              ...        ...        ...   \n",
       "829         NaN  986108 + 986109 2017-03-14        180   \n",
       "830         NaN           342684 2011-02-07         17   \n",
       "831         NaN           987339 2019-09-19        605   \n",
       "832         NaN           987340 2019-09-19        595   \n",
       "833         NaN           987802 2019-09-27        627   \n",
       "\n",
       "                                              Empresas  \\\n",
       "0    beverage associates corp, quilmes industrialm ...   \n",
       "1    the buenos aires herald ltda. / sociedad de di...   \n",
       "2    acindar industria argentina de aceros s.a. / s...   \n",
       "3    juan ignacio borchex y oscar dos reis / asocia...   \n",
       "4         tiboni y cía s.r.l. / sorensen y cía. s.r.l.   \n",
       "..                                                 ...   \n",
       "829  colegio de farmacéuticos de tucumán, asociació...   \n",
       "830                                 la veloz del norte   \n",
       "831  colegio de farmacéuticos de tucumán s/ infracc...   \n",
       "832  cooperativa eléctrica y anexos ltada. c.e.y.a....   \n",
       "833  secretaría de comercio interior y servicios de...   \n",
       "\n",
       "                                               Mercado  \\\n",
       "0                                              cerveza   \n",
       "1                                 distribución diarios   \n",
       "2                          metales comunes siderurgico   \n",
       "3                                            funerario   \n",
       "4    pantógrafos calado perforado cristales automóv...   \n",
       "..                                                 ...   \n",
       "829                    actividades sanitarias sociales   \n",
       "830                                                nan   \n",
       "831  actividades sanitarias sociales dispensa medic...   \n",
       "832          información comunicación televisión cable   \n",
       "833  venta mayor combustibles sólidos líquidos gase...   \n",
       "\n",
       "                                              Conducta  \\\n",
       "0                     carteles acuerdo precios archivo   \n",
       "1                                distribución negativa   \n",
       "2    póliticas precios guerra precios conducta excl...   \n",
       "3                             abuso posición dominante   \n",
       "4                             trato exclusivo patentes   \n",
       "..                                                 ...   \n",
       "829          medida cautelar asociación cámara colegio   \n",
       "830                                                nan   \n",
       "831  artículo 53 ley n 25 156 recurso directo apela...   \n",
       "832                            cumplimiento compromiso   \n",
       "833  abuso posición dominante venta combustible líq...   \n",
       "\n",
       "                                               Sancion  \\\n",
       "0                                              archivo   \n",
       "1                                              archivo   \n",
       "2                                              archivo   \n",
       "3                                              archivo   \n",
       "4                                              archivo   \n",
       "..                                                 ...   \n",
       "829                                    medida cautelar   \n",
       "830                                              multa   \n",
       "831  desestímanse por inadmisibles los recursos dir...   \n",
       "832                                            archivo   \n",
       "833                                            archivo   \n",
       "\n",
       "                                               DETALLE Unnamed: 9  \n",
       "0    realización de una operación de concentración ...        NaN  \n",
       "1                                                    _        NaN  \n",
       "2    para que la guerra de precios pueda considerar...        NaN  \n",
       "3    extensión de servicio mutual a personas no mut...        NaN  \n",
       "4    la denunciada ejerció una serie de presiones s...        NaN  \n",
       "..                                                 ...        ...  \n",
       "829  ordénase al colegio de farmacéuticos de tucumá...        NaN  \n",
       "830  denuncia efectuada por las firmas empresa almi...        NaN  \n",
       "831   con fecha 8 de febrero de 2018, la asociación...        NaN  \n",
       "832                                                NaN        NaN  \n",
       "833   denuncia tuvo su génesis en un reclamo gremia...        NaN  \n",
       "\n",
       "[834 rows x 10 columns]"
      ]
     },
     "execution_count": 6,
     "metadata": {},
     "output_type": "execute_result"
    }
   ],
   "source": [
    "df"
   ]
  },
  {
   "cell_type": "code",
   "execution_count": 7,
   "metadata": {},
   "outputs": [
    {
     "data": {
      "image/png": "[encoded data removed]",
      "text/plain": [
       "<Figure size 576x720 with 1 Axes>"
      ]
     },
     "metadata": {
      "needs_background": "light"
     },
     "output_type": "display_data"
    }
   ],
   "source": [
    "plt.figure(figsize=(8,10))\n",
    "df.groupby(df.Fecha.dt.year).size().plot(kind='barh')\n",
    "plt.ylabel('Años')\n",
    "plt.xlabel('Cantidad')\n",
    "plt.title('Analisis Base de datos')\n",
    "plt.show()"
   ]
  },
  {
   "cell_type": "code",
   "execution_count": 8,
   "metadata": {},
   "outputs": [],
   "source": [
    "###pip install --upgrade gensim"
   ]
  },
  {
   "cell_type": "code",
   "execution_count": 9,
   "metadata": {},
   "outputs": [],
   "source": [
    "from gensim.models.keyedvectors import KeyedVectors\n",
    "modelo = KeyedVectors.load_word2vec_format(\"./SBW-vectors-300-min5.bin.gz\", binary=True)\n",
    "\n",
    "##Documents/Medios/Python/Data Science/Bomchil/SBW-vectors-300-min5.bin.gz\n",
    "###https://unipython.com/curso-de-procesamiento-de-textos-gensim/"
   ]
  },
  {
   "cell_type": "code",
   "execution_count": 10,
   "metadata": {},
   "outputs": [
    {
     "data": {
      "text/plain": [
       "[('cervezas', 0.8439282774925232),\n",
       " ('bebida', 0.7717876434326172),\n",
       " ('bebidas', 0.7246816754341125)]"
      ]
     },
     "execution_count": 10,
     "metadata": {},
     "output_type": "execute_result"
    }
   ],
   "source": [
    "modelo.most_similar(positive=[\"cerveza\"],topn=3)\n",
    "#solucionar los plurales. "
   ]
  },
  {
   "cell_type": "code",
   "execution_count": 11,
   "metadata": {},
   "outputs": [
    {
     "data": {
      "text/plain": [
       "[('mensuarios', 0.6806058883666992),\n",
       " ('OJDinteractiva', 0.6489880084991455),\n",
       " ('MMPCD', 0.6463779807090759)]"
      ]
     },
     "execution_count": 11,
     "metadata": {},
     "output_type": "execute_result"
    }
   ],
   "source": [
    "modelo.most_similar(positive=[\"distribucion\",\"diarios\"],topn=3)"
   ]
  },
  {
   "cell_type": "code",
   "execution_count": 17,
   "metadata": {},
   "outputs": [],
   "source": [
    "df_mercado=df ['Mercado']\n",
    "df_mercado.dropna (inplace=True)"
   ]
  },
  {
   "cell_type": "code",
   "execution_count": 18,
   "metadata": {},
   "outputs": [
    {
     "data": {
      "text/plain": [
       "0                                              [cerveza]\n",
       "1                                [distribución, diarios]\n",
       "2                        [metales, comunes, siderurgico]\n",
       "3                                            [funerario]\n",
       "4      [pantógrafos, calado, perforado, cristales, au...\n",
       "                             ...                        \n",
       "829                  [actividades, sanitarias, sociales]\n",
       "830                                                [nan]\n",
       "831    [actividades, sanitarias, sociales, dispensa, ...\n",
       "832       [información, comunicación, televisión, cable]\n",
       "833    [venta, mayor, combustibles, sólidos, líquidos...\n",
       "Name: Mercado, Length: 834, dtype: object"
      ]
     },
     "execution_count": 18,
     "metadata": {},
     "output_type": "execute_result"
    }
   ],
   "source": [
    "df_mercado= df_mercado.apply(word_tokenize)\n",
    "df_mercado\n",
    "\n",
    "#encontrar la manera de que itere. "
   ]
  },
  {
   "cell_type": "code",
   "execution_count": 15,
   "metadata": {},
   "outputs": [
    {
     "ename": "ValueError",
     "evalue": "not enough values to unpack (expected 2, got 1)",
     "output_type": "error",
     "traceback": [
      "\u001b[1;31m---------------------------------------------------------------------------\u001b[0m",
      "\u001b[1;31mValueError\u001b[0m                                Traceback (most recent call last)",
      "\u001b[1;32m<ipython-input-15-099e47300ad2>\u001b[0m in \u001b[0;36m<module>\u001b[1;34m\u001b[0m\n\u001b[1;32m----> 1\u001b[1;33m \u001b[0mdf_mercado\u001b[0m \u001b[1;33m=\u001b[0m \u001b[1;33m[\u001b[0m\u001b[0mmodelo\u001b[0m\u001b[1;33m.\u001b[0m\u001b[0mmost_similar\u001b[0m\u001b[1;33m(\u001b[0m\u001b[0mpositive\u001b[0m\u001b[1;33m=\u001b[0m\u001b[1;33m[\u001b[0m\u001b[0mx\u001b[0m\u001b[1;33m]\u001b[0m\u001b[1;33m,\u001b[0m\u001b[0mtopn\u001b[0m\u001b[1;33m=\u001b[0m\u001b[1;36m3\u001b[0m\u001b[1;33m)\u001b[0m \u001b[1;32mfor\u001b[0m \u001b[0mx\u001b[0m \u001b[1;32min\u001b[0m \u001b[0mdf_mercado\u001b[0m\u001b[1;33m]\u001b[0m\u001b[1;33m\u001b[0m\u001b[1;33m\u001b[0m\u001b[0m\n\u001b[0m\u001b[0;32m      2\u001b[0m \u001b[1;33m\u001b[0m\u001b[0m\n\u001b[0;32m      3\u001b[0m \u001b[1;31m##df_mercado= [re.sub(\"[\\W+]\",' ', str(x)) for x in df['Mercado']]\u001b[0m\u001b[1;33m\u001b[0m\u001b[1;33m\u001b[0m\u001b[1;33m\u001b[0m\u001b[0m\n",
      "\u001b[1;32m<ipython-input-15-099e47300ad2>\u001b[0m in \u001b[0;36m<listcomp>\u001b[1;34m(.0)\u001b[0m\n\u001b[1;32m----> 1\u001b[1;33m \u001b[0mdf_mercado\u001b[0m \u001b[1;33m=\u001b[0m \u001b[1;33m[\u001b[0m\u001b[0mmodelo\u001b[0m\u001b[1;33m.\u001b[0m\u001b[0mmost_similar\u001b[0m\u001b[1;33m(\u001b[0m\u001b[0mpositive\u001b[0m\u001b[1;33m=\u001b[0m\u001b[1;33m[\u001b[0m\u001b[0mx\u001b[0m\u001b[1;33m]\u001b[0m\u001b[1;33m,\u001b[0m\u001b[0mtopn\u001b[0m\u001b[1;33m=\u001b[0m\u001b[1;36m3\u001b[0m\u001b[1;33m)\u001b[0m \u001b[1;32mfor\u001b[0m \u001b[0mx\u001b[0m \u001b[1;32min\u001b[0m \u001b[0mdf_mercado\u001b[0m\u001b[1;33m]\u001b[0m\u001b[1;33m\u001b[0m\u001b[1;33m\u001b[0m\u001b[0m\n\u001b[0m\u001b[0;32m      2\u001b[0m \u001b[1;33m\u001b[0m\u001b[0m\n\u001b[0;32m      3\u001b[0m \u001b[1;31m##df_mercado= [re.sub(\"[\\W+]\",' ', str(x)) for x in df['Mercado']]\u001b[0m\u001b[1;33m\u001b[0m\u001b[1;33m\u001b[0m\u001b[1;33m\u001b[0m\u001b[0m\n",
      "\u001b[1;32m~\\Miniconda3\\envs\\datascience\\lib\\site-packages\\gensim\\models\\keyedvectors.py\u001b[0m in \u001b[0;36mmost_similar\u001b[1;34m(self, positive, negative, topn, restrict_vocab, indexer)\u001b[0m\n\u001b[0;32m    547\u001b[0m         \u001b[1;31m# compute the weighted average of all words\u001b[0m\u001b[1;33m\u001b[0m\u001b[1;33m\u001b[0m\u001b[1;33m\u001b[0m\u001b[0m\n\u001b[0;32m    548\u001b[0m         \u001b[0mall_words\u001b[0m\u001b[1;33m,\u001b[0m \u001b[0mmean\u001b[0m \u001b[1;33m=\u001b[0m \u001b[0mset\u001b[0m\u001b[1;33m(\u001b[0m\u001b[1;33m)\u001b[0m\u001b[1;33m,\u001b[0m \u001b[1;33m[\u001b[0m\u001b[1;33m]\u001b[0m\u001b[1;33m\u001b[0m\u001b[1;33m\u001b[0m\u001b[0m\n\u001b[1;32m--> 549\u001b[1;33m         \u001b[1;32mfor\u001b[0m \u001b[0mword\u001b[0m\u001b[1;33m,\u001b[0m \u001b[0mweight\u001b[0m \u001b[1;32min\u001b[0m \u001b[0mpositive\u001b[0m \u001b[1;33m+\u001b[0m \u001b[0mnegative\u001b[0m\u001b[1;33m:\u001b[0m\u001b[1;33m\u001b[0m\u001b[1;33m\u001b[0m\u001b[0m\n\u001b[0m\u001b[0;32m    550\u001b[0m             \u001b[1;32mif\u001b[0m \u001b[0misinstance\u001b[0m\u001b[1;33m(\u001b[0m\u001b[0mword\u001b[0m\u001b[1;33m,\u001b[0m \u001b[0mndarray\u001b[0m\u001b[1;33m)\u001b[0m\u001b[1;33m:\u001b[0m\u001b[1;33m\u001b[0m\u001b[1;33m\u001b[0m\u001b[0m\n\u001b[0;32m    551\u001b[0m                 \u001b[0mmean\u001b[0m\u001b[1;33m.\u001b[0m\u001b[0mappend\u001b[0m\u001b[1;33m(\u001b[0m\u001b[0mweight\u001b[0m \u001b[1;33m*\u001b[0m \u001b[0mword\u001b[0m\u001b[1;33m)\u001b[0m\u001b[1;33m\u001b[0m\u001b[1;33m\u001b[0m\u001b[0m\n",
      "\u001b[1;31mValueError\u001b[0m: not enough values to unpack (expected 2, got 1)"
     ]
    }
   ],
   "source": [
    "df_mercado = [modelo.most_similar(positive=[x],topn=3) for x in df_mercado]\n",
    "\n",
    "##df_mercado= [re.sub(\"[\\W+]\",' ', str(x)) for x in df['Mercado']]"
   ]
  }
 ],
 "metadata": {
  "kernelspec": {
   "display_name": "Python 3",
   "language": "python",
   "name": "python3"
  },
  "language_info": {
   "codemirror_mode": {
    "name": "ipython",
    "version": 3
   },
   "file_extension": ".py",
   "mimetype": "text/x-python",
   "name": "python",
   "nbconvert_exporter": "python",
   "pygments_lexer": "ipython3",
   "version": "3.8.1"
  }
 },
 "nbformat": 4,
 "nbformat_minor": 4
}
