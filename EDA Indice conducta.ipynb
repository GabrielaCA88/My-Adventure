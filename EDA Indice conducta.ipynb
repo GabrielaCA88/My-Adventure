{
 "cells": [
  {
   "cell_type": "code",
   "execution_count": 2,
   "metadata": {},
   "outputs": [],
   "source": [
    "import numpy as np\n",
    "import pandas as pd"
   ]
  },
  {
   "cell_type": "code",
   "execution_count": 12,
   "metadata": {},
   "outputs": [],
   "source": [
    "df= pd.read_excel('./859181_INDICES_v_3_conductas.xlsx', header= 4)"
   ]
  },
  {
   "cell_type": "code",
   "execution_count": 24,
   "metadata": {},
   "outputs": [
    {
     "data": {
      "text/html": [
       "<div>\n",
       "<style scoped>\n",
       "    .dataframe tbody tr th:only-of-type {\n",
       "        vertical-align: middle;\n",
       "    }\n",
       "\n",
       "    .dataframe tbody tr th {\n",
       "        vertical-align: top;\n",
       "    }\n",
       "\n",
       "    .dataframe thead th {\n",
       "        text-align: right;\n",
       "    }\n",
       "</style>\n",
       "<table border=\"1\" class=\"dataframe\">\n",
       "  <thead>\n",
       "    <tr style=\"text-align: right;\">\n",
       "      <th></th>\n",
       "      <th>Unnamed: 0</th>\n",
       "      <th>SP</th>\n",
       "      <th>Fecha</th>\n",
       "      <th>Resol. No.</th>\n",
       "      <th>Empresas</th>\n",
       "      <th>Mercado</th>\n",
       "      <th>Conducta</th>\n",
       "      <th>Sancion</th>\n",
       "      <th>DETALLE</th>\n",
       "      <th>Unnamed: 9</th>\n",
       "    </tr>\n",
       "  </thead>\n",
       "  <tbody>\n",
       "    <tr>\n",
       "      <th>0</th>\n",
       "      <td>NaN</td>\n",
       "      <td>326599</td>\n",
       "      <td>2002-10-17 00:00:00</td>\n",
       "      <td>46</td>\n",
       "      <td>Beverage Associates Corp, Quilmes Industrialm ...</td>\n",
       "      <td>Mercado de la cerveza</td>\n",
       "      <td>Carteles -  Acuerdo de Precios - Archivo</td>\n",
       "      <td>Archivo</td>\n",
       "      <td>Realización de una operación de concentración ...</td>\n",
       "      <td>NaN</td>\n",
       "    </tr>\n",
       "    <tr>\n",
       "      <th>1</th>\n",
       "      <td>NaN</td>\n",
       "      <td>323089</td>\n",
       "      <td>1980-11-09 00:00:00</td>\n",
       "      <td>[127]</td>\n",
       "      <td>The Buenos Aires Herald Ltda. / Sociedad de Di...</td>\n",
       "      <td>Distribución de diarios.</td>\n",
       "      <td>Distribución - Negativa -</td>\n",
       "      <td>Archivo</td>\n",
       "      <td>_</td>\n",
       "      <td>NaN</td>\n",
       "    </tr>\n",
       "    <tr>\n",
       "      <th>2</th>\n",
       "      <td>NaN</td>\n",
       "      <td>321373</td>\n",
       "      <td>1981-04-12 00:00:00</td>\n",
       "      <td>124</td>\n",
       "      <td>Acindar Industria Argentina de Aceros S.A. / S...</td>\n",
       "      <td>MANUFACTURING Fabricación de metales comunes -...</td>\n",
       "      <td>Póliticas de precios - Guerra de precios - Con...</td>\n",
       "      <td>Archivo</td>\n",
       "      <td>Para que la guerra de precios pueda considerar...</td>\n",
       "      <td>NaN</td>\n",
       "    </tr>\n",
       "    <tr>\n",
       "      <th>3</th>\n",
       "      <td>NaN</td>\n",
       "      <td>321185</td>\n",
       "      <td>1981-08-09 00:00:00</td>\n",
       "      <td>257</td>\n",
       "      <td>Juan Ignacio Borchex y Oscar Dos Reis / Asocia...</td>\n",
       "      <td>Servicio funerario</td>\n",
       "      <td>Abuso de posición dominante</td>\n",
       "      <td>Archivo</td>\n",
       "      <td>Extensión de servicio mutual a personas no mut...</td>\n",
       "      <td>NaN</td>\n",
       "    </tr>\n",
       "    <tr>\n",
       "      <th>4</th>\n",
       "      <td>NaN</td>\n",
       "      <td>321190</td>\n",
       "      <td>1981-08-18 00:00:00</td>\n",
       "      <td>302</td>\n",
       "      <td>Tiboni y Cía S.R.L. / Sorensen y Cía. S.R.L.</td>\n",
       "      <td>Pantógrafos (calado o perforado de cristales p...</td>\n",
       "      <td>Trato exclusivo - patentes</td>\n",
       "      <td>Archivo</td>\n",
       "      <td>La denunciada ejerció una serie de presiones s...</td>\n",
       "      <td>NaN</td>\n",
       "    </tr>\n",
       "  </tbody>\n",
       "</table>\n",
       "</div>"
      ],
      "text/plain": [
       "   Unnamed: 0      SP                Fecha Resol. No.  \\\n",
       "0         NaN  326599  2002-10-17 00:00:00         46   \n",
       "1         NaN  323089  1980-11-09 00:00:00      [127]   \n",
       "2         NaN  321373  1981-04-12 00:00:00        124   \n",
       "3         NaN  321185  1981-08-09 00:00:00        257   \n",
       "4         NaN  321190  1981-08-18 00:00:00        302   \n",
       "\n",
       "                                            Empresas  \\\n",
       "0  Beverage Associates Corp, Quilmes Industrialm ...   \n",
       "1  The Buenos Aires Herald Ltda. / Sociedad de Di...   \n",
       "2  Acindar Industria Argentina de Aceros S.A. / S...   \n",
       "3  Juan Ignacio Borchex y Oscar Dos Reis / Asocia...   \n",
       "4       Tiboni y Cía S.R.L. / Sorensen y Cía. S.R.L.   \n",
       "\n",
       "                                             Mercado  \\\n",
       "0                              Mercado de la cerveza   \n",
       "1                           Distribución de diarios.   \n",
       "2  MANUFACTURING Fabricación de metales comunes -...   \n",
       "3                                 Servicio funerario   \n",
       "4  Pantógrafos (calado o perforado de cristales p...   \n",
       "\n",
       "                                            Conducta  Sancion  \\\n",
       "0           Carteles -  Acuerdo de Precios - Archivo  Archivo   \n",
       "1                         Distribución - Negativa -   Archivo   \n",
       "2  Póliticas de precios - Guerra de precios - Con...  Archivo   \n",
       "3                        Abuso de posición dominante  Archivo   \n",
       "4                         Trato exclusivo - patentes  Archivo   \n",
       "\n",
       "                                             DETALLE Unnamed: 9  \n",
       "0  Realización de una operación de concentración ...        NaN  \n",
       "1                                                  _        NaN  \n",
       "2  Para que la guerra de precios pueda considerar...        NaN  \n",
       "3  Extensión de servicio mutual a personas no mut...        NaN  \n",
       "4  La denunciada ejerció una serie de presiones s...        NaN  "
      ]
     },
     "execution_count": 24,
     "metadata": {},
     "output_type": "execute_result"
    }
   ],
   "source": [
    "##df.drop (columns=[0])\n",
    "df.head()"
   ]
  },
  {
   "cell_type": "code",
   "execution_count": 25,
   "metadata": {},
   "outputs": [
    {
     "name": "stdout",
     "output_type": "stream",
     "text": [
      "<class 'pandas.core.frame.DataFrame'>\n",
      "RangeIndex: 834 entries, 0 to 833\n",
      "Data columns (total 10 columns):\n",
      " #   Column      Non-Null Count  Dtype  \n",
      "---  ------      --------------  -----  \n",
      " 0   Unnamed: 0  0 non-null      float64\n",
      " 1   SP          804 non-null    object \n",
      " 2   Fecha       834 non-null    object \n",
      " 3   Resol. No.  834 non-null    object \n",
      " 4   Empresas    834 non-null    object \n",
      " 5   Mercado     788 non-null    object \n",
      " 6   Conducta    769 non-null    object \n",
      " 7   Sancion     809 non-null    object \n",
      " 8   DETALLE     745 non-null    object \n",
      " 9   Unnamed: 9  4 non-null      object \n",
      "dtypes: float64(1), object(9)\n",
      "memory usage: 65.3+ KB\n"
     ]
    }
   ],
   "source": [
    "df.info()"
   ]
  },
  {
   "cell_type": "code",
   "execution_count": null,
   "metadata": {},
   "outputs": [],
   "source": []
  }
 ],
 "metadata": {
  "kernelspec": {
   "display_name": "Python 3",
   "language": "python",
   "name": "python3"
  },
  "language_info": {
   "codemirror_mode": {
    "name": "ipython",
    "version": 3
   },
   "file_extension": ".py",
   "mimetype": "text/x-python",
   "name": "python",
   "nbconvert_exporter": "python",
   "pygments_lexer": "ipython3",
   "version": "3.8.1"
  }
 },
 "nbformat": 4,
 "nbformat_minor": 4
}
