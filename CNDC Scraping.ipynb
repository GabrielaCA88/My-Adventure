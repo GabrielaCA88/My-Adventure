{
 "cells": [
  {
   "cell_type": "code",
   "execution_count": 71,
   "metadata": {},
   "outputs": [],
   "source": [
    "import requests\n",
    "from bs4 import BeautifulSoup\n",
    "import pandas as pd"
   ]
  },
  {
   "cell_type": "code",
   "execution_count": 2,
   "metadata": {},
   "outputs": [],
   "source": [
    "url='http://cndc.produccion.gob.ar/'\n",
    "response=requests.get(url)\n",
    "html=response.content\n",
    "scraped=BeautifulSoup(html,'html.parser')"
   ]
  },
  {
   "cell_type": "code",
   "execution_count": 19,
   "metadata": {},
   "outputs": [],
   "source": [
    "##https://medium.com/better-programming/how-to-scrape-multiple-pages-of-a-website-using-a-python-web-scraper-4e2c641cff8 "
   ]
  },
  {
   "cell_type": "code",
   "execution_count": 20,
   "metadata": {},
   "outputs": [],
   "source": [
    "from time import sleep\n",
    "from random import randint"
   ]
  },
  {
   "cell_type": "code",
   "execution_count": 49,
   "metadata": {},
   "outputs": [],
   "source": [
    "###http://cndc.produccion.gob.ar/buscador?page=1\n",
    "###http://cndc.produccion.gob.ar/buscador?page=2\n",
    "nombres2=[]\n",
    "nros2=[]\n",
    "resoluciones2=[]\n",
    "fechas2=[]\n",
    "tipos2=[]"
   ]
  },
  {
   "cell_type": "code",
   "execution_count": 50,
   "metadata": {},
   "outputs": [],
   "source": [
    "import numpy as np\n",
    "pages=np.arange (0,265,1)"
   ]
  },
  {
   "cell_type": "code",
   "execution_count": 51,
   "metadata": {},
   "outputs": [],
   "source": [
    "for page in pages:\n",
    "    response=requests.get(\"http://cndc.produccion.gob.ar/buscador?page=\" + str(page))\n",
    "    html=response.content\n",
    "    scraped = BeautifulSoup(html, 'html.parser')\n",
    "    ##movie_div = soup.find_all('div', class_='lister-item mode-advanced')\n",
    "    sleep(randint(2,10))\n",
    "    nombres= scraped.find_all('td', class_='views-field views-field-title')\n",
    "    for nombre in nombres:\n",
    "        nombre=nombre.text.strip()\n",
    "        nombres2.append (nombre)\n",
    "    dictamenes= scraped.find_all('td', class_='views-field views-field-field-dictamen')\n",
    "    for dictamen in dictamenes:\n",
    "        nro= dictamen.text.strip()\n",
    "        nros2.append(nro)\n",
    "    resoluciones= scraped.find_all('td', class_='views-field views-field-field-resoluci-n')\n",
    "    for resolucion in resoluciones:\n",
    "        resolucion= resolucion.text.strip()\n",
    "        resoluciones2.append(resolucion)\n",
    "    fechas= scraped.find_all('td', class_='views-field views-field-field-fecha')\n",
    "    for fecha in fechas:\n",
    "        fecha= fecha.text.strip()\n",
    "        fechas2.append(fecha)\n",
    "    tipos= scraped.find_all('td', class_='views-field views-field-field-tipo-de-documento')\n",
    "    for tipo in tipos:\n",
    "        tipo= tipo.text.strip()\n",
    "        tipos2.append(tipo)"
   ]
  },
  {
   "cell_type": "code",
   "execution_count": 35,
   "metadata": {},
   "outputs": [],
   "source": [
    "##fechas2= pd.DataFrame (fechas2)\n",
    "##fechas2[0]= pd.to_datetime(fechas2[0]) "
   ]
  },
  {
   "cell_type": "code",
   "execution_count": 52,
   "metadata": {},
   "outputs": [],
   "source": [
    "CNDC = pd.DataFrame({\n",
    "'Nombre dictamen': nombres2,\n",
    "'Nro dictamen': nros2,\n",
    "'Nro resolucion': resoluciones2,\n",
    "'Fecha': fechas2,\n",
    "'Tipos': tipos2 })"
   ]
  },
  {
   "cell_type": "code",
   "execution_count": 66,
   "metadata": {},
   "outputs": [],
   "source": [
    "CNDC.to_csv('CNDC.csv')"
   ]
  },
  {
   "cell_type": "code",
   "execution_count": null,
   "metadata": {},
   "outputs": [],
   "source": [
    "#eliminar los errores de ortografia. \n",
    "#buscar los mercados"
   ]
  },
  {
   "cell_type": "code",
   "execution_count": 70,
   "metadata": {},
   "outputs": [],
   "source": [
    "import numpy as np\n",
    "node=np.arange(7,2705,1)"
   ]
  },
  {
   "cell_type": "code",
   "execution_count": 318,
   "metadata": {},
   "outputs": [],
   "source": [
    "url='http://cndc.produccion.gob.ar/node/7'\n",
    "response=requests.get(url)\n",
    "html=response.content\n",
    "scraped=BeautifulSoup(html,'html.parser')\n",
    "\n",
    "##para tener en cuentoa cuando tiene paginas que no funcionan\n",
    "##r = requests.get('http://cndc.produccion.gob.ar/node/2567')\n",
    "##r.status_code\n",
    "##r = requests.get('http://cndc.produccion.gob.ar/node/9')\n",
    "##r.status_code"
   ]
  },
  {
   "cell_type": "code",
   "execution_count": null,
   "metadata": {},
   "outputs": [],
   "source": [
    "##https://medium.com/better-programming/the-only-step-by-step-guide-youll-need-to-build-a-web-scraper-with-python-e79066bd895a\n",
    "##https://medium.com/better-programming/how-to-scrape-multiple-pages-of-a-website-using-a-python-web-scraper-4e2c641cff8 "
   ]
  },
  {
   "cell_type": "code",
   "execution_count": 458,
   "metadata": {},
   "outputs": [],
   "source": [
    "TA1s_nuevointento=[]\n",
    "TA2s_nuevointento=[]\n",
    "nodes_nook=[]\n",
    "nodes_ok=[]"
   ]
  },
  {
   "cell_type": "code",
   "execution_count": 468,
   "metadata": {},
   "outputs": [],
   "source": [
    "CNDC3 = pd.DataFrame({'Tipo de Conducta/ Concentracion 1':TA1s_nuevointento,\n",
    "'Tipo de Conducta / Concentracion 2': TA2s_nuevointento})"
   ]
  },
  {
   "cell_type": "code",
   "execution_count": 469,
   "metadata": {},
   "outputs": [
    {
     "data": {
      "text/html": [
       "<div>\n",
       "<style scoped>\n",
       "    .dataframe tbody tr th:only-of-type {\n",
       "        vertical-align: middle;\n",
       "    }\n",
       "\n",
       "    .dataframe tbody tr th {\n",
       "        vertical-align: top;\n",
       "    }\n",
       "\n",
       "    .dataframe thead th {\n",
       "        text-align: right;\n",
       "    }\n",
       "</style>\n",
       "<table border=\"1\" class=\"dataframe\">\n",
       "  <thead>\n",
       "    <tr style=\"text-align: right;\">\n",
       "      <th></th>\n",
       "      <th>Tipo de Conducta/ Concentracion 1</th>\n",
       "      <th>Tipo de Conducta / Concentracion 2</th>\n",
       "    </tr>\n",
       "  </thead>\n",
       "  <tbody>\n",
       "    <tr>\n",
       "      <th>0</th>\n",
       "      <td>Descuentos por Fidelidad</td>\n",
       "      <td>Unilateral</td>\n",
       "    </tr>\n",
       "    <tr>\n",
       "      <th>1</th>\n",
       "      <td>Precios Predatorios</td>\n",
       "      <td>Unilateral</td>\n",
       "    </tr>\n",
       "    <tr>\n",
       "      <th>2</th>\n",
       "      <td>Otras</td>\n",
       "      <td>Unilateral</td>\n",
       "    </tr>\n",
       "    <tr>\n",
       "      <th>3</th>\n",
       "      <td>Concertada</td>\n",
       "      <td></td>\n",
       "    </tr>\n",
       "    <tr>\n",
       "      <th>4</th>\n",
       "      <td>Unilateral</td>\n",
       "      <td></td>\n",
       "    </tr>\n",
       "    <tr>\n",
       "      <th>...</th>\n",
       "      <td>...</td>\n",
       "      <td>...</td>\n",
       "    </tr>\n",
       "    <tr>\n",
       "      <th>2641</th>\n",
       "      <td>OPI</td>\n",
       "      <td>OPI</td>\n",
       "    </tr>\n",
       "    <tr>\n",
       "      <th>2642</th>\n",
       "      <td>OPI</td>\n",
       "      <td>OPI</td>\n",
       "    </tr>\n",
       "    <tr>\n",
       "      <th>2643</th>\n",
       "      <td>OPI</td>\n",
       "      <td>OPI</td>\n",
       "    </tr>\n",
       "    <tr>\n",
       "      <th>2644</th>\n",
       "      <td>OPI</td>\n",
       "      <td>OPI</td>\n",
       "    </tr>\n",
       "    <tr>\n",
       "      <th>2645</th>\n",
       "      <td>OPI</td>\n",
       "      <td>OPI</td>\n",
       "    </tr>\n",
       "  </tbody>\n",
       "</table>\n",
       "<p>2646 rows × 2 columns</p>\n",
       "</div>"
      ],
      "text/plain": [
       "     Tipo de Conducta/ Concentracion 1 Tipo de Conducta / Concentracion 2\n",
       "0             Descuentos por Fidelidad                         Unilateral\n",
       "1                  Precios Predatorios                         Unilateral\n",
       "2                                Otras                         Unilateral\n",
       "3                           Concertada                                   \n",
       "4                           Unilateral                                   \n",
       "...                                ...                                ...\n",
       "2641                               OPI                                OPI\n",
       "2642                               OPI                                OPI\n",
       "2643                               OPI                                OPI\n",
       "2644                               OPI                                OPI\n",
       "2645                               OPI                                OPI\n",
       "\n",
       "[2646 rows x 2 columns]"
      ]
     },
     "execution_count": 469,
     "metadata": {},
     "output_type": "execute_result"
    }
   ],
   "source": [
    "CNDC3"
   ]
  },
  {
   "cell_type": "code",
   "execution_count": null,
   "metadata": {},
   "outputs": [],
   "source": [
    "## Este es el codigo que pase a Google Colab. \n",
    "for node in nodes:\n",
    "    response=requests.get(\"http://cndc.produccion.gob.ar/node/\" + str(node))\n",
    "    print ((node-7)*100/2691)\n",
    "    if response.status_code == requests.codes.ok:\n",
    "        nodes_ok.append (node)\n",
    "        html=response.content\n",
    "        scraped = BeautifulSoup(html, 'html.parser')\n",
    "        sleep(randint(5,15))\n",
    "     \n",
    "        Descripcion= scraped.find ('div', class_='field-item even')\n",
    "        if Descripcion:\n",
    "            Descripcion = Descripcion.text.strip()\n",
    "            Descripcion= re.sub(r'\\W', ' ', Descripcion)\n",
    "            Descripcion= re.sub(r'\\d', ' ', Descripcion)\n",
    "            Descripciones.append(Descripcion)\n",
    "        else:\n",
    "            Descripciones.append(' ')\n",
    "\n",
    "\n",
    "        resolucion=scraped.find ('div', class_='field-name-field-resoluci-n')\n",
    "        if resolucion: \n",
    "            resolucion = resolucion.find ('div',class_='field-item even')\n",
    "            resolucion=resolucion.text.strip()\n",
    "            Resoluciones.append (resolucion)\n",
    "        else:\n",
    "            Resoluciones.append(' ')\n",
    "\n",
    "\n",
    "        Industria= scraped.find ('div', class_='field-name-field-industria')\n",
    "        if Industria:\n",
    "            Industria=scraped.find ('div', class_='field-name-field-industria').a\n",
    "            Industria = Industria.text.strip()\n",
    "            Industrias.append(Industria)\n",
    "        else:\n",
    "            Industrias.append(' ')\n",
    "\n",
    "        TA = scraped.find ('div', class_='field-name-field-tipo-de-conducta') or scraped.find ('div', class_='field-name-field-tipo-de-concentraci-n')\n",
    "        if TA: \n",
    "            TA1= TA.find ('div',class_='field-item even')\n",
    "            if TA1:\n",
    "                TA1=TA1.text.strip()\n",
    "                TA1s_nuevointento.append(TA1)\n",
    "            else:\n",
    "                TA1s_nuevointento.append(' ')\n",
    "\n",
    "            TA2= TA.find ('div',class_='field-item odd')\n",
    "            if TA2:\n",
    "                TA2=TA2.text.strip()\n",
    "                TA2s_nuevointento.append(TA2)\n",
    "            else:\n",
    "                TA2s_nuevointento.append(' ')\n",
    "        else: \n",
    "            TA1s_nuevointento.append(' ')\n",
    "            TA2s_nuevointento.append(' ')\n",
    "                \n",
    "    else:\n",
    "        nodes_nook.append (node)"
   ]
  },
  {
   "cell_type": "code",
   "execution_count": null,
   "metadata": {},
   "outputs": [],
   "source": [
    "CNDC4 = pd.DataFrame({\n",
    "'Nro resolucion': Resoluciones,\n",
    "'Industria': Industrias,\n",
    "'Descripcion': Descripciones,\n",
    "'Tipo de Conducta/ Concentracion 1': TA1s_nuevointento,\n",
    "'Tipo de Conducta/Concentracion 2': TA2s_nuevointento})"
   ]
  },
  {
   "cell_type": "code",
   "execution_count": null,
   "metadata": {},
   "outputs": [],
   "source": [
    "df_4 = pd.read_csv('CNDC4.csv')"
   ]
  },
  {
   "cell_type": "code",
   "execution_count": null,
   "metadata": {},
   "outputs": [],
   "source": [
    "#notar que el scraping lo hice justo al revez que la del CNDC 1 entonces tengo que poner upside down el dataframe. \n",
    "df_4_ordenado=df_4.reindex(index=df_4.index[::-1])\n",
    "#reseto el index\n",
    "df_4_ordenado.reset_index(drop=True, inplace=True)\n",
    "#uno ambos dataframes\n",
    "df_consolidado = pd.concat([df,df_4_ordenado], axis=1, ignore_index=True)\n",
    "#controlo que haya quedado ok\n",
    "df_consolidado"
   ]
  },
  {
   "cell_type": "code",
   "execution_count": null,
   "metadata": {},
   "outputs": [],
   "source": [
    "#Si esta ok lo de arriba renombro la columnas. No renombre ni la 6 ni 7 porque las voy a eliminar. Son la resolucion y el viejo numero de indice. \n",
    "df_consolidado= df_consolidado.rename(columns={1: \"Nombre\", 2: \"Nro. de Dictamen\", 3: 'Nro. de Resolucion', 4: 'Fecha', 5:'Tipo de Documento', 8:'Industria', 9:'Descripcion', 10:'Tipo de Conducta/ Concentracion 1',11:'Tipo de Conducta/Concentracion 2' })"
   ]
  },
  {
   "cell_type": "code",
   "execution_count": null,
   "metadata": {},
   "outputs": [],
   "source": [
    "#elimino las columnas que no me importan. \n",
    "df_consolidado= df_consolidado.drop(columns=[6])\n",
    "df_consolidado = df_consolidado.drop(columns=[7])\n",
    "df_consolidado = df_consolidado.drop(columns=[0])\n",
    "df_consolidado"
   ]
  },
  {
   "cell_type": "code",
   "execution_count": null,
   "metadata": {},
   "outputs": [],
   "source": [
    "#guardo el consolidado.\n",
    "df_consolidado.to_csv('CNDC_consolidado.csv')"
   ]
  },
  {
   "cell_type": "code",
   "execution_count": null,
   "metadata": {},
   "outputs": [],
   "source": [
    "#convierto la columna fecha en datetime.\n",
    "df ['Fecha']=pd.to_datetime(df['Fecha'])"
   ]
  }
 ],
 "metadata": {
  "kernelspec": {
   "display_name": "Python 3",
   "language": "python",
   "name": "python3"
  },
  "language_info": {
   "codemirror_mode": {
    "name": "ipython",
    "version": 3
   },
   "file_extension": ".py",
   "mimetype": "text/x-python",
   "name": "python",
   "nbconvert_exporter": "python",
   "pygments_lexer": "ipython3",
   "version": "3.8.1"
  }
 },
 "nbformat": 4,
 "nbformat_minor": 4
}
