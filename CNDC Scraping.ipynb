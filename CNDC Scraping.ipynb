{
 "cells": [
  {
   "cell_type": "code",
   "execution_count": 1,
   "metadata": {},
   "outputs": [],
   "source": [
    "import requests\n",
    "from bs4 import BeautifulSoup\n",
    "import pandas as pd"
   ]
  },
  {
   "cell_type": "code",
   "execution_count": 2,
   "metadata": {},
   "outputs": [],
   "source": [
    "url='http://cndc.produccion.gob.ar/'\n",
    "response=requests.get(url)\n",
    "html=response.content\n",
    "scraped=BeautifulSoup(html,'html.parser')"
   ]
  },
  {
   "cell_type": "code",
   "execution_count": 3,
   "metadata": {},
   "outputs": [
    {
     "data": {
      "text/plain": [
       "<title>Buscador de Dictámenes y Resoluciones | CNDC Buscador</title>"
      ]
     },
     "execution_count": 3,
     "metadata": {},
     "output_type": "execute_result"
    }
   ],
   "source": [
    "scraped.title"
   ]
  },
  {
   "cell_type": "code",
   "execution_count": 4,
   "metadata": {},
   "outputs": [],
   "source": [
    "link=scraped.find('td', class_='views-field views-field-title')"
   ]
  },
  {
   "cell_type": "code",
   "execution_count": 5,
   "metadata": {},
   "outputs": [
    {
     "data": {
      "text/plain": [
       "'Recurso de hecho deducido por el Estado  Nacional - Ministerio de Hacienda y Finanzas Públicas de la  Nación en la causa Imputado: Ford Argentina S.A. y otro s/ apel.  resol. Comisión Nac. Defensa de la Compet.'"
      ]
     },
     "execution_count": 5,
     "metadata": {},
     "output_type": "execute_result"
    }
   ],
   "source": [
    "link.text.strip()"
   ]
  },
  {
   "cell_type": "code",
   "execution_count": 6,
   "metadata": {},
   "outputs": [],
   "source": [
    "nombres= scraped.find_all('td', class_='views-field views-field-title')"
   ]
  },
  {
   "cell_type": "code",
   "execution_count": 7,
   "metadata": {},
   "outputs": [],
   "source": [
    "#rellenar una lista\n",
    "nombres1=[]\n",
    "\n",
    "for nombre in nombres:\n",
    "    nombre=nombre.text.strip()\n",
    "    nombres1.append (nombre)\n",
    "    "
   ]
  },
  {
   "cell_type": "code",
   "execution_count": 8,
   "metadata": {},
   "outputs": [
    {
     "data": {
      "text/plain": [
       "[<td class=\"views-field views-field-field-dictamen\">\n",
       " </td>,\n",
       " <td class=\"views-field views-field-field-dictamen\">\n",
       "             1108          </td>,\n",
       " <td class=\"views-field views-field-field-dictamen\">\n",
       "             100502933          </td>,\n",
       " <td class=\"views-field views-field-field-dictamen\">\n",
       "             106433714          </td>,\n",
       " <td class=\"views-field views-field-field-dictamen\">\n",
       " </td>,\n",
       " <td class=\"views-field views-field-field-dictamen\">\n",
       " </td>,\n",
       " <td class=\"views-field views-field-field-dictamen\">\n",
       "             64324350          </td>,\n",
       " <td class=\"views-field views-field-field-dictamen\">\n",
       "             80279699          </td>,\n",
       " <td class=\"views-field views-field-field-dictamen\">\n",
       "             68209365          </td>,\n",
       " <td class=\"views-field views-field-field-dictamen\">\n",
       "             68874979          </td>]"
      ]
     },
     "execution_count": 8,
     "metadata": {},
     "output_type": "execute_result"
    }
   ],
   "source": [
    "dictamenes= scraped.find_all('td', class_='views-field views-field-field-dictamen')\n",
    "dictamenes"
   ]
  },
  {
   "cell_type": "code",
   "execution_count": 9,
   "metadata": {},
   "outputs": [
    {
     "data": {
      "text/plain": [
       "[0.0,\n",
       " 1108,\n",
       " 100502933,\n",
       " 106433714,\n",
       " 0.0,\n",
       " 0.0,\n",
       " 64324350,\n",
       " 80279699,\n",
       " 68209365,\n",
       " 68874979]"
      ]
     },
     "execution_count": 9,
     "metadata": {},
     "output_type": "execute_result"
    }
   ],
   "source": [
    "#convertir nros a df\n",
    "nros=[]\n",
    "for dictamen in dictamenes:\n",
    "    nro= dictamen.text.strip()\n",
    "    nros.append(nro)\n",
    "\n",
    "nros= [int (i) if i.strip() else 0. for i in nros]\n",
    "nros"
   ]
  },
  {
   "cell_type": "code",
   "execution_count": 10,
   "metadata": {},
   "outputs": [
    {
     "data": {
      "text/plain": [
       "list"
      ]
     },
     "execution_count": 10,
     "metadata": {},
     "output_type": "execute_result"
    }
   ],
   "source": [
    "type(nros)"
   ]
  },
  {
   "cell_type": "code",
   "execution_count": 11,
   "metadata": {},
   "outputs": [
    {
     "data": {
      "text/plain": [
       "[<td class=\"views-field views-field-field-resoluci-n\">\n",
       " </td>,\n",
       " <td class=\"views-field views-field-field-resoluci-n\">\n",
       "             30          </td>,\n",
       " <td class=\"views-field views-field-field-resoluci-n\">\n",
       "             22          </td>,\n",
       " <td class=\"views-field views-field-field-resoluci-n\">\n",
       "             21          </td>,\n",
       " <td class=\"views-field views-field-field-resoluci-n\">\n",
       " </td>,\n",
       " <td class=\"views-field views-field-field-resoluci-n\">\n",
       " </td>,\n",
       " <td class=\"views-field views-field-field-resoluci-n\">\n",
       "             574          </td>,\n",
       " <td class=\"views-field views-field-field-resoluci-n\">\n",
       "             540          </td>,\n",
       " <td class=\"views-field views-field-field-resoluci-n\">\n",
       "             630          </td>,\n",
       " <td class=\"views-field views-field-field-resoluci-n\">\n",
       "             649          </td>]"
      ]
     },
     "execution_count": 11,
     "metadata": {},
     "output_type": "execute_result"
    }
   ],
   "source": [
    "resoluciones= scraped.find_all('td', class_='views-field views-field-field-resoluci-n')\n",
    "resoluciones"
   ]
  },
  {
   "cell_type": "code",
   "execution_count": 12,
   "metadata": {},
   "outputs": [
    {
     "data": {
      "text/plain": [
       "[0.0, 30, 22, 21, 0.0, 0.0, 574, 540, 630, 649]"
      ]
     },
     "execution_count": 12,
     "metadata": {},
     "output_type": "execute_result"
    }
   ],
   "source": [
    "#convertir nros a df\n",
    "resoluciones1=[]\n",
    "\n",
    "for resolucion in resoluciones:\n",
    "    resolucion= resolucion.text.strip()\n",
    "    resoluciones1.append(resolucion)\n",
    "\n",
    "resoluciones1= [int (i) if i.strip() else 0. for i in resoluciones1]\n",
    "resoluciones1"
   ]
  },
  {
   "cell_type": "code",
   "execution_count": 13,
   "metadata": {},
   "outputs": [
    {
     "data": {
      "text/plain": [
       "[<td class=\"views-field views-field-field-fecha\">\n",
       " </td>,\n",
       " <td class=\"views-field views-field-field-fecha\">\n",
       " <span class=\"date-display-single\" content=\"2015-03-03T00:00:00-03:00\" datatype=\"xsd:dateTime\" property=\"dc:date\">03-03-2015</span> </td>,\n",
       " <td class=\"views-field views-field-field-fecha\">\n",
       " <span class=\"date-display-single\" content=\"2020-01-30T00:00:00-03:00\" datatype=\"xsd:dateTime\" property=\"dc:date\">30-01-2020</span> </td>,\n",
       " <td class=\"views-field views-field-field-fecha\">\n",
       " <span class=\"date-display-single\" content=\"2020-01-30T00:00:00-03:00\" datatype=\"xsd:dateTime\" property=\"dc:date\">30-01-2020</span> </td>,\n",
       " <td class=\"views-field views-field-field-fecha\">\n",
       " </td>,\n",
       " <td class=\"views-field views-field-field-fecha\">\n",
       " </td>,\n",
       " <td class=\"views-field views-field-field-fecha\">\n",
       " <span class=\"date-display-single\" content=\"2019-09-19T00:00:00-03:00\" datatype=\"xsd:dateTime\" property=\"dc:date\">19-09-2019</span> </td>,\n",
       " <td class=\"views-field views-field-field-fecha\">\n",
       " <span class=\"date-display-single\" content=\"2019-09-11T00:00:00-03:00\" datatype=\"xsd:dateTime\" property=\"dc:date\">11-09-2019</span> </td>,\n",
       " <td class=\"views-field views-field-field-fecha\">\n",
       " <span class=\"date-display-single\" content=\"2019-09-30T00:00:00-03:00\" datatype=\"xsd:dateTime\" property=\"dc:date\">30-09-2019</span> </td>,\n",
       " <td class=\"views-field views-field-field-fecha\">\n",
       " <span class=\"date-display-single\" content=\"2019-10-04T00:00:00-03:00\" datatype=\"xsd:dateTime\" property=\"dc:date\">04-10-2019</span> </td>]"
      ]
     },
     "execution_count": 13,
     "metadata": {},
     "output_type": "execute_result"
    }
   ],
   "source": [
    "fechas= scraped.find_all('td', class_='views-field views-field-field-fecha')\n",
    "fechas"
   ]
  },
  {
   "cell_type": "code",
   "execution_count": 14,
   "metadata": {},
   "outputs": [
    {
     "name": "stdout",
     "output_type": "stream",
     "text": [
      "<class 'pandas.core.frame.DataFrame'>\n",
      "RangeIndex: 10 entries, 0 to 9\n",
      "Data columns (total 1 columns):\n",
      " #   Column  Non-Null Count  Dtype         \n",
      "---  ------  --------------  -----         \n",
      " 0   0       7 non-null      datetime64[ns]\n",
      "dtypes: datetime64[ns](1)\n",
      "memory usage: 208.0 bytes\n"
     ]
    }
   ],
   "source": [
    "fechas1=[]\n",
    "for fecha in fechas:\n",
    "    fecha= fecha.text.strip()\n",
    "    fechas1.append(fecha)\n",
    "\n",
    "fechas1= pd.DataFrame (fechas1)\n",
    "fechas1[0]= pd.to_datetime(fechas1[0]) \n",
    "fechas1.info()\n",
    "\n",
    "#no se sacar los nulos. El fillna me crea muchos 0 que no necesito. "
   ]
  },
  {
   "cell_type": "code",
   "execution_count": 15,
   "metadata": {},
   "outputs": [
    {
     "data": {
      "text/plain": [
       "[<td class=\"views-field views-field-field-tipo-de-documento\">\n",
       " </td>,\n",
       " <td class=\"views-field views-field-field-tipo-de-documento\">\n",
       "             Concentraciones          </td>,\n",
       " <td class=\"views-field views-field-field-tipo-de-documento\">\n",
       "             Concentraciones          </td>,\n",
       " <td class=\"views-field views-field-field-tipo-de-documento\">\n",
       "             Concentraciones          </td>,\n",
       " <td class=\"views-field views-field-field-tipo-de-documento\">\n",
       " </td>,\n",
       " <td class=\"views-field views-field-field-tipo-de-documento\">\n",
       "             Conductas          </td>,\n",
       " <td class=\"views-field views-field-field-tipo-de-documento\">\n",
       "             Conductas          </td>,\n",
       " <td class=\"views-field views-field-field-tipo-de-documento\">\n",
       "             OPI          </td>,\n",
       " <td class=\"views-field views-field-field-tipo-de-documento\">\n",
       "             OPI          </td>,\n",
       " <td class=\"views-field views-field-field-tipo-de-documento\">\n",
       "             OPI          </td>]"
      ]
     },
     "execution_count": 15,
     "metadata": {},
     "output_type": "execute_result"
    }
   ],
   "source": [
    "tipos= scraped.find_all('td', class_='views-field views-field-field-tipo-de-documento')\n",
    "tipos"
   ]
  },
  {
   "cell_type": "code",
   "execution_count": 16,
   "metadata": {},
   "outputs": [],
   "source": [
    "tipos1=[]\n",
    "for tipo in tipos:\n",
    "    tipo= tipo.text.strip()\n",
    "    tipos1.append(tipo)\n",
    "\n",
    "tipos1= [str (i) if i.strip() else \"N/A\" for i in tipos1]\n",
    "##fechas1[0]= pd.to_datetime(fechas1[0]) \n",
    "##fechas1.info()"
   ]
  },
  {
   "cell_type": "code",
   "execution_count": 17,
   "metadata": {},
   "outputs": [],
   "source": [
    "#lo ideal es armar un diccionario. \n",
    "#pero concateno listas para formar un data frame\n",
    "Nombre_dictamen = pd.DataFrame(nombres1)\n",
    "Nro_dictamen= pd.DataFrame(nros)\n",
    "Nro_resolucion=pd.DataFrame(resoluciones1)\n",
    "Tipo=pd.DataFrame(tipos1)"
   ]
  },
  {
   "cell_type": "code",
   "execution_count": 18,
   "metadata": {},
   "outputs": [
    {
     "data": {
      "text/html": [
       "<div>\n",
       "<style scoped>\n",
       "    .dataframe tbody tr th:only-of-type {\n",
       "        vertical-align: middle;\n",
       "    }\n",
       "\n",
       "    .dataframe tbody tr th {\n",
       "        vertical-align: top;\n",
       "    }\n",
       "\n",
       "    .dataframe thead th {\n",
       "        text-align: right;\n",
       "    }\n",
       "</style>\n",
       "<table border=\"1\" class=\"dataframe\">\n",
       "  <thead>\n",
       "    <tr style=\"text-align: right;\">\n",
       "      <th></th>\n",
       "      <th>Nombre dictamen</th>\n",
       "      <th>Nro Dictamen</th>\n",
       "      <th>Nro Resolucion</th>\n",
       "      <th>Fecha</th>\n",
       "      <th>Tipo</th>\n",
       "    </tr>\n",
       "  </thead>\n",
       "  <tbody>\n",
       "    <tr>\n",
       "      <th>0</th>\n",
       "      <td>Recurso de hecho deducido por el Estado  Nacio...</td>\n",
       "      <td>0.0</td>\n",
       "      <td>0.0</td>\n",
       "      <td>NaT</td>\n",
       "      <td>N/A</td>\n",
       "    </tr>\n",
       "    <tr>\n",
       "      <th>1</th>\n",
       "      <td>ANGEL JORGE ANTONIO CALCATERRA, LATINA DE INFR...</td>\n",
       "      <td>1108.0</td>\n",
       "      <td>30.0</td>\n",
       "      <td>2015-03-03</td>\n",
       "      <td>Concentraciones</td>\n",
       "    </tr>\n",
       "    <tr>\n",
       "      <th>2</th>\n",
       "      <td>L3N S.A. Y SANCOR COOPERATIVAS UNIDAS LIMITADA...</td>\n",
       "      <td>100502933.0</td>\n",
       "      <td>22.0</td>\n",
       "      <td>2020-01-30</td>\n",
       "      <td>Concentraciones</td>\n",
       "    </tr>\n",
       "    <tr>\n",
       "      <th>3</th>\n",
       "      <td>FRAS-LE S.A., MARCELO PASSAGLIA PARACCHINI, BE...</td>\n",
       "      <td>106433714.0</td>\n",
       "      <td>21.0</td>\n",
       "      <td>2020-01-30</td>\n",
       "      <td>Concentraciones</td>\n",
       "    </tr>\n",
       "    <tr>\n",
       "      <th>4</th>\n",
       "      <td>GRISU S.A. Y OTRO C/ ESTADO NACIONAL</td>\n",
       "      <td>0.0</td>\n",
       "      <td>0.0</td>\n",
       "      <td>NaT</td>\n",
       "      <td>N/A</td>\n",
       "    </tr>\n",
       "    <tr>\n",
       "      <th>5</th>\n",
       "      <td>CIRCULO ODONTOLOGICO DE JUJUY c/ MECON - SC S/...</td>\n",
       "      <td>0.0</td>\n",
       "      <td>0.0</td>\n",
       "      <td>NaT</td>\n",
       "      <td>Conductas</td>\n",
       "    </tr>\n",
       "    <tr>\n",
       "      <th>6</th>\n",
       "      <td>CÍRCULO DE BIOQUÍMICOS DE LA PCIA. DE MISIONES...</td>\n",
       "      <td>64324350.0</td>\n",
       "      <td>574.0</td>\n",
       "      <td>2019-09-19</td>\n",
       "      <td>Conductas</td>\n",
       "    </tr>\n",
       "    <tr>\n",
       "      <th>7</th>\n",
       "      <td>DASS ARGENTINA S.R.L. Y DASS ELDORADO S.R.L. S...</td>\n",
       "      <td>80279699.0</td>\n",
       "      <td>540.0</td>\n",
       "      <td>2019-11-09</td>\n",
       "      <td>OPI</td>\n",
       "    </tr>\n",
       "    <tr>\n",
       "      <th>8</th>\n",
       "      <td>LIMONEIRA COMPANY Y FGFTRAPANI S.A. S/ OPINIÓN...</td>\n",
       "      <td>68209365.0</td>\n",
       "      <td>630.0</td>\n",
       "      <td>2019-09-30</td>\n",
       "      <td>OPI</td>\n",
       "    </tr>\n",
       "    <tr>\n",
       "      <th>9</th>\n",
       "      <td>IRSA   INVERSIONES   Y   REPRESENTACIONESSOCIE...</td>\n",
       "      <td>68874979.0</td>\n",
       "      <td>649.0</td>\n",
       "      <td>2019-04-10</td>\n",
       "      <td>OPI</td>\n",
       "    </tr>\n",
       "  </tbody>\n",
       "</table>\n",
       "</div>"
      ],
      "text/plain": [
       "                                     Nombre dictamen  Nro Dictamen  \\\n",
       "0  Recurso de hecho deducido por el Estado  Nacio...           0.0   \n",
       "1  ANGEL JORGE ANTONIO CALCATERRA, LATINA DE INFR...        1108.0   \n",
       "2  L3N S.A. Y SANCOR COOPERATIVAS UNIDAS LIMITADA...   100502933.0   \n",
       "3  FRAS-LE S.A., MARCELO PASSAGLIA PARACCHINI, BE...   106433714.0   \n",
       "4               GRISU S.A. Y OTRO C/ ESTADO NACIONAL           0.0   \n",
       "5  CIRCULO ODONTOLOGICO DE JUJUY c/ MECON - SC S/...           0.0   \n",
       "6  CÍRCULO DE BIOQUÍMICOS DE LA PCIA. DE MISIONES...    64324350.0   \n",
       "7  DASS ARGENTINA S.R.L. Y DASS ELDORADO S.R.L. S...    80279699.0   \n",
       "8  LIMONEIRA COMPANY Y FGFTRAPANI S.A. S/ OPINIÓN...    68209365.0   \n",
       "9  IRSA   INVERSIONES   Y   REPRESENTACIONESSOCIE...    68874979.0   \n",
       "\n",
       "   Nro Resolucion      Fecha             Tipo  \n",
       "0             0.0        NaT              N/A  \n",
       "1            30.0 2015-03-03  Concentraciones  \n",
       "2            22.0 2020-01-30  Concentraciones  \n",
       "3            21.0 2020-01-30  Concentraciones  \n",
       "4             0.0        NaT              N/A  \n",
       "5             0.0        NaT        Conductas  \n",
       "6           574.0 2019-09-19        Conductas  \n",
       "7           540.0 2019-11-09              OPI  \n",
       "8           630.0 2019-09-30              OPI  \n",
       "9           649.0 2019-04-10              OPI  "
      ]
     },
     "execution_count": 18,
     "metadata": {},
     "output_type": "execute_result"
    }
   ],
   "source": [
    "result = pd.concat([Nombre_dictamen, Nro_dictamen, Nro_resolucion,fechas1,Tipo], axis=1, sort=False,ignore_index=True)\n",
    "result.rename(columns={0: 'Nombre dictamen', 1: 'Nro Dictamen', 2:'Nro Resolucion', 3:'Fecha', 4:'Tipo'}, inplace=True)\n",
    "result\n",
    "###results.to_csv('results.csv')"
   ]
  },
  {
   "cell_type": "code",
   "execution_count": 19,
   "metadata": {},
   "outputs": [],
   "source": [
    "##https://medium.com/better-programming/how-to-scrape-multiple-pages-of-a-website-using-a-python-web-scraper-4e2c641cff8 "
   ]
  }
 ],
 "metadata": {
  "kernelspec": {
   "display_name": "Python 3",
   "language": "python",
   "name": "python3"
  },
  "language_info": {
   "codemirror_mode": {
    "name": "ipython",
    "version": 3
   },
   "file_extension": ".py",
   "mimetype": "text/x-python",
   "name": "python",
   "nbconvert_exporter": "python",
   "pygments_lexer": "ipython3",
   "version": "3.8.1"
  }
 },
 "nbformat": 4,
 "nbformat_minor": 4
}
